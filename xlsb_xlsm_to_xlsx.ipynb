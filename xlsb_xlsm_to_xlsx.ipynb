{
 "cells": [
  {
   "cell_type": "code",
   "execution_count": 1,
   "metadata": {},
   "outputs": [],
   "source": [
    "\"\"\"\n",
    "Authors: Ritvik Kapila and Gauri Gupta\n",
    "\"\"\"\n",
    "\n",
    "# You will need to install python xlsb library and update pandas, if not already done, on or after 29 January, using the following command for reading xlsb files"
   ]
  },
  {
   "cell_type": "code",
   "execution_count": 2,
   "metadata": {},
   "outputs": [],
   "source": [
    "# pip install pandas --upgrade"
   ]
  },
  {
   "cell_type": "code",
   "execution_count": 3,
   "metadata": {},
   "outputs": [],
   "source": [
    "# pip install pyxlsb"
   ]
  },
  {
   "cell_type": "code",
   "execution_count": 4,
   "metadata": {},
   "outputs": [],
   "source": [
    "# Now continue with the code after updation"
   ]
  },
  {
   "cell_type": "code",
   "execution_count": 2,
   "metadata": {},
   "outputs": [],
   "source": [
    "import pandas as pd"
   ]
  },
  {
   "cell_type": "code",
   "execution_count": 3,
   "metadata": {},
   "outputs": [],
   "source": [
    "# Function for conversion of xlsb file to xlsx\n",
    "\n",
    "def xlsb2xlsx(filename, output_filename):\n",
    "    dfs = pd.read_excel(filename, engine = 'pyxlsb', sheet_name = None)\n",
    "    writer = pd.ExcelWriter(output_filename + '.xlsx', engine = 'xlsxwriter')\n",
    "    for sheet_name in dfs.keys():\n",
    "        dfs[sheet_name].to_excel(writer, sheet_name = sheet_name, index = False)\n",
    "    writer.save()    \n",
    "    "
   ]
  },
  {
   "cell_type": "code",
   "execution_count": 4,
   "metadata": {},
   "outputs": [],
   "source": [
    "# Function for conversion of xlsm file to xlsx\n",
    "\n",
    "def xlsm2xlsx(filename, output_filename):\n",
    "    dfs = pd.read_excel(filename, sheet_name = None)\n",
    "    writer = pd.ExcelWriter(output_filename + '.xlsx', engine = 'xlsxwriter')\n",
    "    for sheet_name in dfs.keys():\n",
    "        dfs[sheet_name].to_excel(writer, sheet_name = sheet_name, index = False)\n",
    "    writer.save()    \n",
    "    "
   ]
  },
  {
   "cell_type": "code",
   "execution_count": 7,
   "metadata": {},
   "outputs": [],
   "source": [
    "xlsb2xlsx('test_xlsb.xlsb', 'out_xlsb')"
   ]
  },
  {
   "cell_type": "code",
   "execution_count": 8,
   "metadata": {},
   "outputs": [],
   "source": [
    "xlsm2xlsx('test_xlsm.xlsm', 'out_xlsm')"
   ]
  },
  {
   "cell_type": "code",
   "execution_count": null,
   "metadata": {},
   "outputs": [],
   "source": []
  }
 ],
 "metadata": {
  "kernelspec": {
   "display_name": "Python 3",
   "language": "python",
   "name": "python3"
  },
  "language_info": {
   "codemirror_mode": {
    "name": "ipython",
    "version": 3
   },
   "file_extension": ".py",
   "mimetype": "text/x-python",
   "name": "python",
   "nbconvert_exporter": "python",
   "pygments_lexer": "ipython3",
   "version": "3.7.4"
  }
 },
 "nbformat": 4,
 "nbformat_minor": 2
}
